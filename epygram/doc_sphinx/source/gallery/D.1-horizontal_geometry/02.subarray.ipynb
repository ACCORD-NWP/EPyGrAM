{
 "cells": [
  {
   "cell_type": "markdown",
   "metadata": {},
   "source": [
    "# Extract a subarray, keeping projection"
   ]
  },
  {
   "cell_type": "code",
   "execution_count": 1,
   "metadata": {},
   "outputs": [],
   "source": [
    "%matplotlib inline\n",
    "# for figures in notebook\n",
    "\n",
    "# import & initialize epygram\n",
    "import epygram\n",
    "epygram.init_env()\n",
    "\n",
    "import os\n",
    "INPUTS_DIR = os.path.join(epygram.config.installdir, 'doc_sphinx', 'source', 'gallery', 'inputs')"
   ]
  },
  {
   "cell_type": "code",
   "execution_count": 2,
   "metadata": {},
   "outputs": [],
   "source": [
    "# open resource in read mode\n",
    "r = epygram.formats.resource(os.path.join(INPUTS_DIR, 'ICMSHAROM+0022'), 'r')"
   ]
  },
  {
   "cell_type": "code",
   "execution_count": 3,
   "metadata": {},
   "outputs": [
    {
     "name": "stdout",
     "output_type": "stream",
     "text": [
      "<class 'epygram.geometries.H2DGeometry.H2DProjectedGeometry'>\n",
      "{'X': 250, 'Y': 250, 'X_CIzone': 240, 'Y_CIzone': 240, 'X_Iwidth': 16, 'Y_Iwidth': 16, 'X_Czone': 208, 'Y_Czone': 208, 'X_CIoffset': 0, 'Y_CIoffset': 0}\n",
      "<class 'epygram.geometries.H2DGeometry.H2DProjectedGeometry'>\n",
      "{'X': 36, 'Y': 81}\n"
     ]
    }
   ],
   "source": [
    "f = r.readfield('SURFTEMPERATURE')\n",
    "print(type(f.geometry))\n",
    "print(f.geometry.dimensions)\n",
    "z = f.extract_subarray(10, 45, 25, 105)\n",
    "print(type(z.geometry))\n",
    "print(z.geometry.dimensions)"
   ]
  },
  {
   "cell_type": "code",
   "execution_count": 4,
   "metadata": {},
   "outputs": [],
   "source": []
  }
 ],
 "metadata": {
  "kernelspec": {
   "display_name": "Python 3",
   "language": "python",
   "name": "python3"
  },
  "language_info": {
   "codemirror_mode": {
    "name": "ipython",
    "version": 3
   },
   "file_extension": ".py",
   "mimetype": "text/x-python",
   "name": "python",
   "nbconvert_exporter": "python",
   "pygments_lexer": "ipython3",
   "version": "3.7.6"
  }
 },
 "nbformat": 4,
 "nbformat_minor": 2
}
