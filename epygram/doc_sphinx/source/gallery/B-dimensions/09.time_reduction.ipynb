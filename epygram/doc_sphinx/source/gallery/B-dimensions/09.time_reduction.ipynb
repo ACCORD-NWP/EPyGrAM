{
 "cells": [
  {
   "cell_type": "markdown",
   "metadata": {},
   "source": [
    "# Time reduction"
   ]
  },
  {
   "cell_type": "code",
   "execution_count": 1,
   "metadata": {},
   "outputs": [
    {
     "ename": "ModuleNotFoundError",
     "evalue": "No module named 'epygram'",
     "output_type": "error",
     "traceback": [
      "\u001b[0;31m---------------------------------------------------------------------------\u001b[0m",
      "\u001b[0;31mModuleNotFoundError\u001b[0m                       Traceback (most recent call last)",
      "\u001b[0;32m<ipython-input-1-0cd1960416b8>\u001b[0m in \u001b[0;36m<module>\u001b[0;34m\u001b[0m\n\u001b[1;32m      3\u001b[0m \u001b[0;34m\u001b[0m\u001b[0m\n\u001b[1;32m      4\u001b[0m \u001b[0;31m# import & initialize epygram\u001b[0m\u001b[0;34m\u001b[0m\u001b[0;34m\u001b[0m\u001b[0;34m\u001b[0m\u001b[0m\n\u001b[0;32m----> 5\u001b[0;31m \u001b[0;32mimport\u001b[0m \u001b[0mepygram\u001b[0m\u001b[0;34m\u001b[0m\u001b[0;34m\u001b[0m\u001b[0m\n\u001b[0m\u001b[1;32m      6\u001b[0m \u001b[0mepygram\u001b[0m\u001b[0;34m.\u001b[0m\u001b[0minit_env\u001b[0m\u001b[0;34m(\u001b[0m\u001b[0;34m)\u001b[0m\u001b[0;34m\u001b[0m\u001b[0;34m\u001b[0m\u001b[0m\n\u001b[1;32m      7\u001b[0m \u001b[0;34m\u001b[0m\u001b[0m\n",
      "\u001b[0;31mModuleNotFoundError\u001b[0m: No module named 'epygram'"
     ]
    }
   ],
   "source": [
    "%matplotlib inline\n",
    "# for figures in notebook\n",
    "\n",
    "# import & initialize epygram\n",
    "import epygram\n",
    "epygram.init_env()\n",
    "\n",
    "# path to file\n",
    "import os\n",
    "INPUTS_DIR = os.path.join(epygram.config.installdir, 'doc_sphinx', 'source', 'new_gallery', 'inputs')"
   ]
  },
  {
   "cell_type": "code",
   "execution_count": 2,
   "metadata": {},
   "outputs": [],
   "source": [
    "paths = [os.path.join(INPUTS_DIR, 'grid.arome-forecast.guyane0025+00{:02}:00.grib'.format(i))\n",
    "         for i in (0, 12, 24)]\n",
    "r = epygram.resources.meta_resource(paths, 'r', 'MV')  # MV = Multi-Validities"
   ]
  },
  {
   "cell_type": "code",
   "execution_count": 3,
   "metadata": {},
   "outputs": [],
   "source": [
    "f = r.readfield('shortName:2r')"
   ]
  },
  {
   "cell_type": "code",
   "execution_count": 4,
   "metadata": {},
   "outputs": [
    {
     "name": "stdout",
     "output_type": "stream",
     "text": [
      "(3, 317, 419)\n",
      "<List of FieldValidity which date/time are:\n",
      "2020-11-02 00:00:00\n",
      "2020-11-02 12:00:00\n",
      "2020-11-03 00:00:00\n",
      ">\n",
      "FieldValidity containing:\n",
      "    _basis: 2020-11-02 00:00:00\n",
      "    _date_time: 2020-11-03 00:00:00\n",
      "    _cumulativeduration: None\n",
      "    _statistical_process_on_duration: None\n",
      "    _statistical_time_increment: None\n",
      "[95.85521266 90.31512517 95.977125  ]\n"
     ]
    }
   ],
   "source": [
    "print(f.data.shape)\n",
    "print(f.validity)\n",
    "print(f.validity[2])\n",
    "print(f.data[:,0,0])"
   ]
  },
  {
   "cell_type": "code",
   "execution_count": 5,
   "metadata": {},
   "outputs": [],
   "source": [
    "f.time_reduce()"
   ]
  },
  {
   "cell_type": "code",
   "execution_count": 6,
   "metadata": {},
   "outputs": [
    {
     "name": "stdout",
     "output_type": "stream",
     "text": [
      "(317, 419)\n",
      "FieldValidity containing:\n",
      "    _basis: 2020-11-02 00:00:00\n",
      "    _date_time: 2020-11-03 00:00:00\n",
      "    _cumulativeduration: 1 day, 0:00:00\n",
      "    _statistical_process_on_duration: mean\n",
      "    _statistical_time_increment: None\n",
      "94.04915427547299\n"
     ]
    }
   ],
   "source": [
    "print(f.data.shape)\n",
    "print(f.validity[0])  # Validity is now the cumulated statistical process on the window\n",
    "print(f.data[0,0])"
   ]
  },
  {
   "cell_type": "code",
   "execution_count": 7,
   "metadata": {},
   "outputs": [],
   "source": []
  }
 ],
 "metadata": {
  "kernelspec": {
   "display_name": "Python 3",
   "language": "python",
   "name": "python3"
  },
  "language_info": {
   "codemirror_mode": {
    "name": "ipython",
    "version": 3
   },
   "file_extension": ".py",
   "mimetype": "text/x-python",
   "name": "python",
   "nbconvert_exporter": "python",
   "pygments_lexer": "ipython3",
   "version": "3.7.6"
  }
 },
 "nbformat": 4,
 "nbformat_minor": 2
}
