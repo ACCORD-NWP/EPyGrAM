{
 "cells": [
  {
   "cell_type": "markdown",
   "metadata": {},
   "source": [
    "# netCDF specificities"
   ]
  },
  {
   "cell_type": "code",
   "execution_count": 1,
   "metadata": {},
   "outputs": [],
   "source": [
    "%matplotlib inline\n",
    "# for figures in notebook\n",
    "\n",
    "# import & initialize epygram\n",
    "import epygram\n",
    "epygram.init_env()\n",
    "\n",
    "import os\n",
    "INPUTS_DIR = os.path.join(epygram.config.installdir, 'doc_sphinx', 'source', 'gallery', 'inputs')"
   ]
  },
  {
   "cell_type": "code",
   "execution_count": 2,
   "metadata": {},
   "outputs": [],
   "source": [
    "r = epygram.formats.resource(os.path.join(INPUTS_DIR, 'aladin.197901.nc'), 'r')"
   ]
  },
  {
   "cell_type": "code",
   "execution_count": 3,
   "metadata": {},
   "outputs": [
    {
     "name": "stdout",
     "output_type": "stream",
     "text": [
      "### FORMAT: netCDF\n",
      "\n",
      "NetCDF Global Attributes:\n",
      "\tname: 'test_phys'\n",
      "\tdescription: 'Created by xios'\n",
      "\ttitle: 'Created by xios'\n",
      "\tConventions: 'CF-1.5'\n",
      "\tproduction: 'An IPSL model'\n",
      "\ttimeStamp: '2016-Apr-15 13:09:53 CEST'\n",
      "NetCDF dimension information:\n",
      "\tName: axis_nbounds\n",
      "\t\tsize: 2\n",
      "\tName: x\n",
      "\t\tsize: 49\n",
      "\tName: y\n",
      "\t\tsize: 39\n",
      "\tName: time_counter\n",
      "\t\tsize: 12\n",
      "NetCDF variable information:\n",
      "\tName: nav_lat\n",
      "\t\tdimensions: ('y', 'x')\n",
      "\t\tsize: 1911\n",
      "\t\ttype: dtype('float32')\n",
      "\t\tstandard_name: 'latitude'\n",
      "\t\tlong_name: 'Latitude'\n",
      "\t\tunits: 'degrees_north'\n",
      "\t\tnav_model: 'FULL'\n",
      "\tName: nav_lon\n",
      "\t\tdimensions: ('y', 'x')\n",
      "\t\tsize: 1911\n",
      "\t\ttype: dtype('float32')\n",
      "\t\tstandard_name: 'longitude'\n",
      "\t\tlong_name: 'Longitude'\n",
      "\t\tunits: 'degrees_east'\n",
      "\t\tnav_model: 'FULL'\n",
      "\tName: psl\n",
      "\t\tdimensions: ('time_counter', 'y', 'x')\n",
      "\t\tsize: 22932\n",
      "\t\ttype: dtype('float32')\n",
      "\t\tlong_name: 'air_pressure_at_sea_level (Pa)'\n",
      "\t\tunits: 'Pa'\n",
      "\t\tonline_operation: 'instant'\n",
      "\t\tinterval_operation: '1 h'\n",
      "\t\tinterval_write: '2 h'\n",
      "\t\tcell_methods: 'time: point (interval: 1 h)'\n",
      "\t\t_FillValue: 1e+20\n",
      "\t\tmissing_value: 1e+20\n",
      "\t\tcoordinates: 'time_instant nav_lat nav_lon'\n",
      "\tName: time_instant\n",
      "\t\tdimensions: ('time_counter',)\n",
      "\t\tsize: 12\n",
      "\t\ttype: dtype('float64')\n",
      "\t\tstandard_name: 'time'\n",
      "\t\tlong_name: 'Time axis'\n",
      "\t\tcalendar: 'gregorian'\n",
      "\t\tunits: 'seconds since 1979-01-01 00:00:00'\n",
      "\t\ttime_origin: '1979-01-01 00:00:00'\n",
      "\t\tbounds: 'time_instant_bounds'\n",
      "\tName: time_instant_bounds\n",
      "\t\tdimensions: ('time_counter', 'axis_nbounds')\n",
      "\t\tsize: 24\n",
      "\t\ttype: dtype('float64')\n",
      "\tName: time_counter\n",
      "\t\tdimensions: ('time_counter',)\n",
      "\t\tsize: 12\n",
      "\t\ttype: dtype('float64')\n",
      "\t\taxis: 'T'\n",
      "\t\tstandard_name: 'time'\n",
      "\t\tlong_name: 'Time axis'\n",
      "\t\tcalendar: 'gregorian'\n",
      "\t\tunits: 'seconds since 1979-01-01 00:00:00'\n",
      "\t\ttime_origin: '1979-01-01 00:00:00'\n",
      "\t\tbounds: 'time_counter_bounds'\n",
      "\tName: time_counter_bounds\n",
      "\t\tdimensions: ('time_counter', 'axis_nbounds')\n",
      "\t\tsize: 24\n",
      "\t\ttype: dtype('float64')\n"
     ]
    }
   ],
   "source": [
    "# Equivalent of `ncdump -h`\n",
    "r.what()"
   ]
  },
  {
   "cell_type": "markdown",
   "metadata": {},
   "source": [
    "## Specify non-trivial variables for grid"
   ]
  },
  {
   "cell_type": "markdown",
   "metadata": {},
   "source": [
    "Genuinely, this line:\n",
    "\n",
    "`r.readfield('psl')`\n",
    "\n",
    "would result in the following error:\n",
    "\n",
    "`# [2021/01/19-18:59:55][epygram.formats.netCDF][find_grid_in_variables:0459][ERROR]: unable to find X_grid in variables. Please specify with readfield() argument adhoc_behaviour={'X_grid':'name_of_the_variable'} for instance or my_resource.behave(X_grid='name_of_the_variable')`\n"
   ]
  },
  {
   "cell_type": "code",
   "execution_count": 4,
   "metadata": {},
   "outputs": [],
   "source": [
    "# Hence we need to specify grids\n",
    "# just for this read\n",
    "f = r.readfield('psl', adhoc_behaviour={'X_grid':'nav_lon', 'Y_grid':'nav_lat'})\n",
    "# or for the whole runtime\n",
    "r.behave(X_grid='nav_lon', Y_grid='nav_lat')\n",
    "f = r.readfield('psl')"
   ]
  },
  {
   "cell_type": "code",
   "execution_count": 5,
   "metadata": {},
   "outputs": [
    {
     "name": "stdout",
     "output_type": "stream",
     "text": [
      "<List of FieldValidity which date/time are:\n",
      "1979-01-01 01:00:00\n",
      "1979-01-01 03:00:00\n",
      "1979-01-01 05:00:00\n",
      "1979-01-01 07:00:00\n",
      "1979-01-01 09:00:00\n",
      "1979-01-01 11:00:00\n",
      "1979-01-01 13:00:00\n",
      "1979-01-01 15:00:00\n",
      "1979-01-01 17:00:00\n",
      "1979-01-01 19:00:00\n",
      "1979-01-01 21:00:00\n",
      "1979-01-01 23:00:00\n",
      ">\n"
     ]
    }
   ],
   "source": [
    "print(f.validity)"
   ]
  },
  {
   "cell_type": "markdown",
   "metadata": {},
   "source": [
    "## Read only a single index of the data"
   ]
  },
  {
   "cell_type": "code",
   "execution_count": 6,
   "metadata": {},
   "outputs": [],
   "source": [
    "f = r.readfield('psl', only={'time_counter':0})"
   ]
  },
  {
   "cell_type": "code",
   "execution_count": 7,
   "metadata": {},
   "outputs": [
    {
     "name": "stdout",
     "output_type": "stream",
     "text": [
      "<List of FieldValidity which date/time are:\n",
      "1979-01-01 01:00:00\n",
      ">\n"
     ]
    }
   ],
   "source": [
    "print(f.validity)"
   ]
  },
  {
   "cell_type": "code",
   "execution_count": null,
   "metadata": {},
   "outputs": [],
   "source": []
  }
 ],
 "metadata": {
  "kernelspec": {
   "display_name": "Python 3",
   "language": "python",
   "name": "python3"
  },
  "language_info": {
   "codemirror_mode": {
    "name": "ipython",
    "version": 3
   },
   "file_extension": ".py",
   "mimetype": "text/x-python",
   "name": "python",
   "nbconvert_exporter": "python",
   "pygments_lexer": "ipython3",
   "version": "3.7.6"
  }
 },
 "nbformat": 4,
 "nbformat_minor": 1
}
