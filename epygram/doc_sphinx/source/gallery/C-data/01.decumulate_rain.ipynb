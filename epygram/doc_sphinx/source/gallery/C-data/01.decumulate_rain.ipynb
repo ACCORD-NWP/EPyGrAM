{
 "cells": [
  {
   "cell_type": "markdown",
   "metadata": {},
   "source": [
    "# Decumulate rain fields\n",
    "\n",
    "and write it back to GRIB, ensuring proper validity"
   ]
  },
  {
   "cell_type": "code",
   "execution_count": 1,
   "metadata": {},
   "outputs": [],
   "source": [
    "%matplotlib inline\n",
    "# for figures in notebook\n",
    "\n",
    "# import & initialize epygram\n",
    "import epygram\n",
    "epygram.init_env()\n",
    "\n",
    "import os\n",
    "INPUTS_DIR = os.path.join(epygram.config.installdir, 'doc_sphinx', 'source', 'new_gallery', 'inputs')\n",
    "OUTPUTS_DIR = os.path.join(epygram.config.installdir, 'doc_sphinx', 'source', 'new_gallery', 'outputs')"
   ]
  },
  {
   "cell_type": "code",
   "execution_count": 2,
   "metadata": {},
   "outputs": [],
   "source": [
    "paths = [os.path.join(INPUTS_DIR, 'grid.arome-forecast.guyane0025+00{:02}:00.grib'.format(i))\n",
    "         for i in (0, 12, 24)]\n",
    "resources = [epygram.formats.resource(p, 'r') for p in paths]"
   ]
  },
  {
   "cell_type": "code",
   "execution_count": 4,
   "metadata": {},
   "outputs": [],
   "source": [
    "rain = [r.readfield({'discipline':0, 'parameterCategory':1, 'parameterNumber':65})\n",
    "        for r in resources[1:]]  # start from 1: term 0, no rain"
   ]
  },
  {
   "cell_type": "code",
   "execution_count": 5,
   "metadata": {},
   "outputs": [
    {
     "name": "stdout",
     "output_type": "stream",
     "text": [
      "[6.270696104762613, 12.545468328417483]\n"
     ]
    }
   ],
   "source": [
    "# rain is accumulated from beginning of forecast\n",
    "print([r.mean() for r in rain])"
   ]
  },
  {
   "cell_type": "code",
   "execution_count": 6,
   "metadata": {},
   "outputs": [],
   "source": [
    "for i in range(len(rain)):\n",
    "    if i == 0: continue  # term 1, no decumulation to do\n",
    "    rain[i].operation('-', rain[i-1])\n",
    "    rain[i].validity[0].set(cumulativeduration=(rain[i].validity[0].get()-rain[i-1].validity[0].get()))"
   ]
  },
  {
   "cell_type": "code",
   "execution_count": 7,
   "metadata": {},
   "outputs": [
    {
     "name": "stdout",
     "output_type": "stream",
     "text": [
      "[6.270696104762613, 6.27477222365487]\n"
     ]
    }
   ],
   "source": [
    "print([r.mean() for r in rain])"
   ]
  },
  {
   "cell_type": "code",
   "execution_count": 8,
   "metadata": {},
   "outputs": [
    {
     "name": "stdout",
     "output_type": "stream",
     "text": [
      "FieldValidity containing:\n",
      "    _basis: 2020-11-02 00:00:00\n",
      "    _date_time: 2020-11-02 12:00:00\n",
      "    _cumulativeduration: 12:00:00\n",
      "    _statistical_process_on_duration: 1\n",
      "    _statistical_time_increment: 0:00:00\n",
      "FieldValidity containing:\n",
      "    _basis: 2020-11-02 00:00:00\n",
      "    _date_time: 2020-11-03 00:00:00\n",
      "    _cumulativeduration: 12:00:00\n",
      "    _statistical_process_on_duration: 1\n",
      "    _statistical_time_increment: 0:00:00\n"
     ]
    }
   ],
   "source": [
    "rain_series = epygram.formats.resource(os.path.join(OUTPUTS_DIR,'rain_series.grib'), 'w', fmt='GRIB')\n",
    "for r in rain:\n",
    "    print(r.validity[0])\n",
    "    rain_series.writefield(r)\n",
    "rain_series.close()"
   ]
  },
  {
   "cell_type": "code",
   "execution_count": null,
   "metadata": {},
   "outputs": [],
   "source": []
  }
 ],
 "metadata": {
  "kernelspec": {
   "display_name": "Python 3",
   "language": "python",
   "name": "python3"
  },
  "language_info": {
   "codemirror_mode": {
    "name": "ipython",
    "version": 3
   },
   "file_extension": ".py",
   "mimetype": "text/x-python",
   "name": "python",
   "nbconvert_exporter": "python",
   "pygments_lexer": "ipython3",
   "version": "3.7.6"
  }
 },
 "nbformat": 4,
 "nbformat_minor": 1
}
