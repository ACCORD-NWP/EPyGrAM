{
 "cells": [
  {
   "cell_type": "code",
   "execution_count": 1,
   "metadata": {
    "collapsed": true
   },
   "outputs": [],
   "source": [
    "# %matplotlib inline\n",
    "import matplotlib.pyplot as plt\n",
    "import epygram\n",
    "epygram.init_env()"
   ]
  },
  {
   "cell_type": "code",
   "execution_count": 2,
   "metadata": {
    "collapsed": false
   },
   "outputs": [
    {
     "name": "stdout",
     "output_type": "stream",
     "text": [
      "2200.0 -50.0\n",
      "(1, 1, -49, 301)\n"
     ]
    },
    {
     "ename": "ValueError",
     "evalue": "negative dimensions are not allowed",
     "output_type": "error",
     "traceback": [
      "\u001b[0;31m\u001b[0m",
      "\u001b[0;31mValueError\u001b[0mTraceback (most recent call last)",
      "\u001b[0;32m<ipython-input-2-86739c68978d>\u001b[0m in \u001b[0;36m<module>\u001b[0;34m()\u001b[0m\n\u001b[1;32m      4\u001b[0m \u001b[0mrh2m\u001b[0m \u001b[0;34m=\u001b[0m \u001b[0mfcst1\u001b[0m\u001b[0;34m.\u001b[0m\u001b[0mreadfield\u001b[0m\u001b[0;34m(\u001b[0m\u001b[0;34m'CLSHUMI.RELATIVE'\u001b[0m\u001b[0;34m)\u001b[0m\u001b[0;34m\u001b[0m\u001b[0m\n\u001b[1;32m      5\u001b[0m \u001b[0mrain\u001b[0m \u001b[0;34m=\u001b[0m \u001b[0mfcst36\u001b[0m\u001b[0;34m.\u001b[0m\u001b[0mreadfield\u001b[0m\u001b[0;34m(\u001b[0m\u001b[0;34m{\u001b[0m\u001b[0;34m'indicatorOfParameter'\u001b[0m\u001b[0;34m:\u001b[0m\u001b[0;36m150\u001b[0m\u001b[0;34m}\u001b[0m\u001b[0;34m)\u001b[0m\u001b[0;34m\u001b[0m\u001b[0m\n\u001b[0;32m----> 6\u001b[0;31m \u001b[0mrain\u001b[0m \u001b[0;34m=\u001b[0m \u001b[0mrain\u001b[0m\u001b[0;34m.\u001b[0m\u001b[0mextract_zoom\u001b[0m\u001b[0;34m(\u001b[0m\u001b[0mdict\u001b[0m\u001b[0;34m(\u001b[0m\u001b[0mlonmin\u001b[0m\u001b[0;34m=\u001b[0m\u001b[0;36m7\u001b[0m\u001b[0;34m,\u001b[0m\u001b[0mlonmax\u001b[0m\u001b[0;34m=\u001b[0m\u001b[0;36m10\u001b[0m\u001b[0;34m,\u001b[0m\u001b[0mlatmin\u001b[0m\u001b[0;34m=\u001b[0m\u001b[0;36m35\u001b[0m\u001b[0;34m,\u001b[0m\u001b[0mlatmax\u001b[0m\u001b[0;34m=\u001b[0m\u001b[0;36m37\u001b[0m\u001b[0;34m)\u001b[0m\u001b[0;34m)\u001b[0m\u001b[0;34m\u001b[0m\u001b[0m\n\u001b[0m",
      "\u001b[0;32m/home/mary/.epygram/src/epygram/fields/D3Field.py\u001b[0m in \u001b[0;36mextract_zoom\u001b[0;34m(self, zoom, extra_10th)\u001b[0m\n\u001b[1;32m    881\u001b[0m         \u001b[0mshp\u001b[0m \u001b[0;34m=\u001b[0m \u001b[0mzoom_geom\u001b[0m\u001b[0;34m.\u001b[0m\u001b[0mget_datashape\u001b[0m\u001b[0;34m(\u001b[0m\u001b[0mdimT\u001b[0m\u001b[0;34m=\u001b[0m\u001b[0mlen\u001b[0m\u001b[0;34m(\u001b[0m\u001b[0mself\u001b[0m\u001b[0;34m.\u001b[0m\u001b[0mvalidity\u001b[0m\u001b[0;34m)\u001b[0m\u001b[0;34m,\u001b[0m \u001b[0md4\u001b[0m\u001b[0;34m=\u001b[0m\u001b[0mTrue\u001b[0m\u001b[0;34m)\u001b[0m\u001b[0;34m\u001b[0m\u001b[0m\n\u001b[1;32m    882\u001b[0m         \u001b[0;32mprint\u001b[0m\u001b[0;34m(\u001b[0m\u001b[0mshp\u001b[0m\u001b[0;34m)\u001b[0m\u001b[0;34m\u001b[0m\u001b[0m\n\u001b[0;32m--> 883\u001b[0;31m         \u001b[0mdata\u001b[0m \u001b[0;34m=\u001b[0m \u001b[0mnumpy\u001b[0m\u001b[0;34m.\u001b[0m\u001b[0mempty\u001b[0m\u001b[0;34m(\u001b[0m\u001b[0mshp\u001b[0m\u001b[0;34m)\u001b[0m\u001b[0;34m\u001b[0m\u001b[0m\n\u001b[0m\u001b[1;32m    884\u001b[0m         \u001b[0mvalues\u001b[0m \u001b[0;34m=\u001b[0m \u001b[0mself\u001b[0m\u001b[0;34m.\u001b[0m\u001b[0mgetdata\u001b[0m\u001b[0;34m(\u001b[0m\u001b[0md4\u001b[0m\u001b[0;34m=\u001b[0m\u001b[0mTrue\u001b[0m\u001b[0;34m)\u001b[0m\u001b[0;34m\u001b[0m\u001b[0m\n\u001b[1;32m    885\u001b[0m         \u001b[0;32mfor\u001b[0m \u001b[0mt\u001b[0m \u001b[0;32min\u001b[0m \u001b[0mrange\u001b[0m\u001b[0;34m(\u001b[0m\u001b[0mlen\u001b[0m\u001b[0;34m(\u001b[0m\u001b[0mself\u001b[0m\u001b[0;34m.\u001b[0m\u001b[0mvalidity\u001b[0m\u001b[0;34m)\u001b[0m\u001b[0;34m)\u001b[0m\u001b[0;34m:\u001b[0m\u001b[0;34m\u001b[0m\u001b[0m\n",
      "\u001b[0;31mValueError\u001b[0m: negative dimensions are not allowed"
     ]
    }
   ],
   "source": [
    "fcst1 = epygram.formats.resource('../../../inputs/ICMSHAROM+0001', 'r')\n",
    "fcst36 = epygram.formats.resource('../../../inputs/GRIDEURW1S100r0_0036', 'r')\n",
    "# Read the fields we want to plot\n",
    "rh2m = fcst1.readfield('CLSHUMI.RELATIVE')\n",
    "rain = fcst36.readfield({'indicatorOfParameter':150})\n",
    "rain = rain.extract_zoom(dict(lonmin=7,lonmax=10,latmin=35,latmax=37))"
   ]
  },
  {
   "cell_type": "code",
   "execution_count": 15,
   "metadata": {
    "collapsed": false
   },
   "outputs": [],
   "source": [
    "# Prepare a 4-plot figure\n",
    "projection = rh2m.geometry.default_cartopy_CRS()\n",
    "figure = plt.figure(figsize=(16,16))"
   ]
  },
  {
   "cell_type": "code",
   "execution_count": 16,
   "metadata": {
    "collapsed": false
   },
   "outputs": [],
   "source": [
    "# color shades\n",
    "ax = figure.add_subplot(2,2,1, projection=projection)\n",
    "figure, ax = rh2m.cartoplot(figure, ax, projection,\n",
    "                            subzone='CI',\n",
    "                            plot_method='contourf', colorsnumber=10, colormap='plasma',\n",
    "                            title='contourf')\n",
    "# contour lines\n",
    "ax = figure.add_subplot(2,2,2, projection=projection)\n",
    "figure, ax = rh2m.cartoplot(figure, ax, projection,\n",
    "                            subzone='CI',\n",
    "                            plot_method='contour', colorsnumber=6, contourcolor='blue',\n",
    "                            title='contour')\n",
    "# scatter points\n",
    "ax = figure.add_subplot(2,2,3, projection=projection)\n",
    "figure, ax = rain.cartoplot(figure, ax, projection,\n",
    "                            plot_method='scatter', scatter_kw=dict(s=2, edgecolor='none'), colormap='rr1h',\n",
    "                            title='scatter')\n",
    "# mesh\n",
    "ax = figure.add_subplot(2,2,4, projection=projection)\n",
    "figure, ax = rain.cartoplot(figure, ax, projection,\n",
    "                            plot_method='pcolormesh', colormap='radar',\n",
    "                            title='pcolormesh')"
   ]
  },
  {
   "cell_type": "code",
   "execution_count": 17,
   "metadata": {
    "collapsed": false
   },
   "outputs": [],
   "source": [
    "plt.show()"
   ]
  },
  {
   "cell_type": "code",
   "execution_count": null,
   "metadata": {
    "collapsed": true
   },
   "outputs": [],
   "source": []
  }
 ],
 "metadata": {
  "kernelspec": {
   "display_name": "Python 2",
   "language": "python",
   "name": "python2"
  },
  "language_info": {
   "codemirror_mode": {
    "name": "ipython",
    "version": 2
   },
   "file_extension": ".py",
   "mimetype": "text/x-python",
   "name": "python",
   "nbconvert_exporter": "python",
   "pygments_lexer": "ipython2",
   "version": "2.7.13"
  }
 },
 "nbformat": 4,
 "nbformat_minor": 0
}
